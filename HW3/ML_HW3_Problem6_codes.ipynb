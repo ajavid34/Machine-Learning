{
  "cells": [
    {
      "cell_type": "markdown",
      "metadata": {},
      "source": [
        "# $$\\color{red}{\\text{Machine Learning}}$$\n",
        "\n",
        "$$\\color{orange}{\\text{Multi Layer Neural Network}}$$\n",
        "\n",
        "$$\\color{lime}{\\text{Alireza Javid - 810198375}}$$"
      ]
    },
    {
      "cell_type": "markdown",
      "metadata": {},
      "source": [
        "## $\\color{deepskyblue}{\\text{Import Libraries}}$"
      ]
    },
    {
      "cell_type": "code",
      "execution_count": 2,
      "metadata": {
        "id": "4C3cw_QZVu9h"
      },
      "outputs": [],
      "source": [
        "import numpy as np\n",
        "import matplotlib.pyplot as plt\n",
        "import pandas as pd\n",
        "import tensorflow as tf\n",
        "from tensorflow import keras\n",
        "from sklearn.model_selection import train_test_split\n",
        "from sklearn.preprocessing import LabelEncoder\n",
        "import matplotlib.pyplot as plt\n",
        "import seaborn as sns"
      ]
    },
    {
      "cell_type": "markdown",
      "metadata": {},
      "source": [
        "## $\\color{deepskyblue}{\\text{Preprocessing}}$"
      ]
    },
    {
      "cell_type": "code",
      "execution_count": 3,
      "metadata": {
        "colab": {
          "base_uri": "https://localhost:8080/",
          "height": 317
        },
        "id": "pFJbffddWBSl",
        "outputId": "57e0fbfe-ddf0-47c4-9d27-44e7d2da3dbc"
      },
      "outputs": [
        {
          "data": {
            "text/html": [
              "\n",
              "  <div id=\"df-dcf64601-9ca2-470a-9fb1-845facc830f5\">\n",
              "    <div class=\"colab-df-container\">\n",
              "      <div>\n",
              "<style scoped>\n",
              "    .dataframe tbody tr th:only-of-type {\n",
              "        vertical-align: middle;\n",
              "    }\n",
              "\n",
              "    .dataframe tbody tr th {\n",
              "        vertical-align: top;\n",
              "    }\n",
              "\n",
              "    .dataframe thead th {\n",
              "        text-align: right;\n",
              "    }\n",
              "</style>\n",
              "<table border=\"1\" class=\"dataframe\">\n",
              "  <thead>\n",
              "    <tr style=\"text-align: right;\">\n",
              "      <th></th>\n",
              "      <th>Unnamed: 0</th>\n",
              "      <th>label</th>\n",
              "      <th>feat1</th>\n",
              "      <th>feat2</th>\n",
              "      <th>feat3</th>\n",
              "      <th>feat4</th>\n",
              "      <th>feat5</th>\n",
              "      <th>feat6</th>\n",
              "      <th>feat7</th>\n",
              "      <th>feat8</th>\n",
              "      <th>...</th>\n",
              "      <th>feat160</th>\n",
              "      <th>feat161</th>\n",
              "      <th>feat162</th>\n",
              "      <th>feat163</th>\n",
              "      <th>feat164</th>\n",
              "      <th>feat165</th>\n",
              "      <th>feat166</th>\n",
              "      <th>feat167</th>\n",
              "      <th>feat168</th>\n",
              "      <th>feat169</th>\n",
              "    </tr>\n",
              "  </thead>\n",
              "  <tbody>\n",
              "    <tr>\n",
              "      <th>0</th>\n",
              "      <td>0</td>\n",
              "      <td>O</td>\n",
              "      <td>5</td>\n",
              "      <td>661.190476</td>\n",
              "      <td>658.333333</td>\n",
              "      <td>55.278736</td>\n",
              "      <td>106.962730</td>\n",
              "      <td>111.113889</td>\n",
              "      <td>13</td>\n",
              "      <td>0.928571</td>\n",
              "      <td>...</td>\n",
              "      <td>0.165551</td>\n",
              "      <td>0.196</td>\n",
              "      <td>0.321645</td>\n",
              "      <td>0.074160</td>\n",
              "      <td>0.000000</td>\n",
              "      <td>0.000000</td>\n",
              "      <td>0.000000</td>\n",
              "      <td>0.019540</td>\n",
              "      <td>0.340</td>\n",
              "      <td>0.000</td>\n",
              "    </tr>\n",
              "    <tr>\n",
              "      <th>1</th>\n",
              "      <td>1</td>\n",
              "      <td>O</td>\n",
              "      <td>5</td>\n",
              "      <td>661.666667</td>\n",
              "      <td>658.333333</td>\n",
              "      <td>56.579873</td>\n",
              "      <td>108.407273</td>\n",
              "      <td>112.510209</td>\n",
              "      <td>13</td>\n",
              "      <td>0.928571</td>\n",
              "      <td>...</td>\n",
              "      <td>0.190431</td>\n",
              "      <td>0.196</td>\n",
              "      <td>0.362420</td>\n",
              "      <td>0.085271</td>\n",
              "      <td>0.000000</td>\n",
              "      <td>0.000000</td>\n",
              "      <td>0.000000</td>\n",
              "      <td>0.022238</td>\n",
              "      <td>0.332</td>\n",
              "      <td>0.000</td>\n",
              "    </tr>\n",
              "    <tr>\n",
              "      <th>2</th>\n",
              "      <td>2</td>\n",
              "      <td>O</td>\n",
              "      <td>8</td>\n",
              "      <td>661.904762</td>\n",
              "      <td>660.000000</td>\n",
              "      <td>58.758004</td>\n",
              "      <td>112.796617</td>\n",
              "      <td>117.091412</td>\n",
              "      <td>13</td>\n",
              "      <td>0.928571</td>\n",
              "      <td>...</td>\n",
              "      <td>0.094497</td>\n",
              "      <td>0.316</td>\n",
              "      <td>0.376645</td>\n",
              "      <td>0.042448</td>\n",
              "      <td>0.000000</td>\n",
              "      <td>0.000000</td>\n",
              "      <td>0.000000</td>\n",
              "      <td>0.023166</td>\n",
              "      <td>0.452</td>\n",
              "      <td>0.000</td>\n",
              "    </tr>\n",
              "    <tr>\n",
              "      <th>3</th>\n",
              "      <td>3</td>\n",
              "      <td>O</td>\n",
              "      <td>7</td>\n",
              "      <td>660.952381</td>\n",
              "      <td>663.333333</td>\n",
              "      <td>59.029597</td>\n",
              "      <td>113.649634</td>\n",
              "      <td>117.981601</td>\n",
              "      <td>13</td>\n",
              "      <td>0.928571</td>\n",
              "      <td>...</td>\n",
              "      <td>0.157149</td>\n",
              "      <td>0.284</td>\n",
              "      <td>0.419043</td>\n",
              "      <td>0.070674</td>\n",
              "      <td>0.026236</td>\n",
              "      <td>0.015264</td>\n",
              "      <td>0.594278</td>\n",
              "      <td>0.025686</td>\n",
              "      <td>0.256</td>\n",
              "      <td>0.128</td>\n",
              "    </tr>\n",
              "    <tr>\n",
              "      <th>4</th>\n",
              "      <td>4</td>\n",
              "      <td>O</td>\n",
              "      <td>5</td>\n",
              "      <td>660.476191</td>\n",
              "      <td>663.333333</td>\n",
              "      <td>55.759820</td>\n",
              "      <td>107.623910</td>\n",
              "      <td>111.732026</td>\n",
              "      <td>13</td>\n",
              "      <td>0.928571</td>\n",
              "      <td>...</td>\n",
              "      <td>0.162662</td>\n",
              "      <td>0.204</td>\n",
              "      <td>0.354123</td>\n",
              "      <td>0.072988</td>\n",
              "      <td>0.025833</td>\n",
              "      <td>0.014326</td>\n",
              "      <td>0.657085</td>\n",
              "      <td>0.021802</td>\n",
              "      <td>0.328</td>\n",
              "      <td>0.128</td>\n",
              "    </tr>\n",
              "  </tbody>\n",
              "</table>\n",
              "<p>5 rows × 171 columns</p>\n",
              "</div>\n",
              "      <button class=\"colab-df-convert\" onclick=\"convertToInteractive('df-dcf64601-9ca2-470a-9fb1-845facc830f5')\"\n",
              "              title=\"Convert this dataframe to an interactive table.\"\n",
              "              style=\"display:none;\">\n",
              "        \n",
              "  <svg xmlns=\"http://www.w3.org/2000/svg\" height=\"24px\"viewBox=\"0 0 24 24\"\n",
              "       width=\"24px\">\n",
              "    <path d=\"M0 0h24v24H0V0z\" fill=\"none\"/>\n",
              "    <path d=\"M18.56 5.44l.94 2.06.94-2.06 2.06-.94-2.06-.94-.94-2.06-.94 2.06-2.06.94zm-11 1L8.5 8.5l.94-2.06 2.06-.94-2.06-.94L8.5 2.5l-.94 2.06-2.06.94zm10 10l.94 2.06.94-2.06 2.06-.94-2.06-.94-.94-2.06-.94 2.06-2.06.94z\"/><path d=\"M17.41 7.96l-1.37-1.37c-.4-.4-.92-.59-1.43-.59-.52 0-1.04.2-1.43.59L10.3 9.45l-7.72 7.72c-.78.78-.78 2.05 0 2.83L4 21.41c.39.39.9.59 1.41.59.51 0 1.02-.2 1.41-.59l7.78-7.78 2.81-2.81c.8-.78.8-2.07 0-2.86zM5.41 20L4 18.59l7.72-7.72 1.47 1.35L5.41 20z\"/>\n",
              "  </svg>\n",
              "      </button>\n",
              "      \n",
              "  <style>\n",
              "    .colab-df-container {\n",
              "      display:flex;\n",
              "      flex-wrap:wrap;\n",
              "      gap: 12px;\n",
              "    }\n",
              "\n",
              "    .colab-df-convert {\n",
              "      background-color: #E8F0FE;\n",
              "      border: none;\n",
              "      border-radius: 50%;\n",
              "      cursor: pointer;\n",
              "      display: none;\n",
              "      fill: #1967D2;\n",
              "      height: 32px;\n",
              "      padding: 0 0 0 0;\n",
              "      width: 32px;\n",
              "    }\n",
              "\n",
              "    .colab-df-convert:hover {\n",
              "      background-color: #E2EBFA;\n",
              "      box-shadow: 0px 1px 2px rgba(60, 64, 67, 0.3), 0px 1px 3px 1px rgba(60, 64, 67, 0.15);\n",
              "      fill: #174EA6;\n",
              "    }\n",
              "\n",
              "    [theme=dark] .colab-df-convert {\n",
              "      background-color: #3B4455;\n",
              "      fill: #D2E3FC;\n",
              "    }\n",
              "\n",
              "    [theme=dark] .colab-df-convert:hover {\n",
              "      background-color: #434B5C;\n",
              "      box-shadow: 0px 1px 3px 1px rgba(0, 0, 0, 0.15);\n",
              "      filter: drop-shadow(0px 1px 2px rgba(0, 0, 0, 0.3));\n",
              "      fill: #FFFFFF;\n",
              "    }\n",
              "  </style>\n",
              "\n",
              "      <script>\n",
              "        const buttonEl =\n",
              "          document.querySelector('#df-dcf64601-9ca2-470a-9fb1-845facc830f5 button.colab-df-convert');\n",
              "        buttonEl.style.display =\n",
              "          google.colab.kernel.accessAllowed ? 'block' : 'none';\n",
              "\n",
              "        async function convertToInteractive(key) {\n",
              "          const element = document.querySelector('#df-dcf64601-9ca2-470a-9fb1-845facc830f5');\n",
              "          const dataTable =\n",
              "            await google.colab.kernel.invokeFunction('convertToInteractive',\n",
              "                                                     [key], {});\n",
              "          if (!dataTable) return;\n",
              "\n",
              "          const docLinkHtml = 'Like what you see? Visit the ' +\n",
              "            '<a target=\"_blank\" href=https://colab.research.google.com/notebooks/data_table.ipynb>data table notebook</a>'\n",
              "            + ' to learn more about interactive tables.';\n",
              "          element.innerHTML = '';\n",
              "          dataTable['output_type'] = 'display_data';\n",
              "          await google.colab.output.renderOutput(dataTable, element);\n",
              "          const docLink = document.createElement('div');\n",
              "          docLink.innerHTML = docLinkHtml;\n",
              "          element.appendChild(docLink);\n",
              "        }\n",
              "      </script>\n",
              "    </div>\n",
              "  </div>\n",
              "  "
            ],
            "text/plain": [
              "   Unnamed: 0 label  feat1       feat2       feat3      feat4       feat5  \\\n",
              "0           0     O      5  661.190476  658.333333  55.278736  106.962730   \n",
              "1           1     O      5  661.666667  658.333333  56.579873  108.407273   \n",
              "2           2     O      8  661.904762  660.000000  58.758004  112.796617   \n",
              "3           3     O      7  660.952381  663.333333  59.029597  113.649634   \n",
              "4           4     O      5  660.476191  663.333333  55.759820  107.623910   \n",
              "\n",
              "        feat6  feat7     feat8  ...   feat160  feat161   feat162   feat163  \\\n",
              "0  111.113889     13  0.928571  ...  0.165551    0.196  0.321645  0.074160   \n",
              "1  112.510209     13  0.928571  ...  0.190431    0.196  0.362420  0.085271   \n",
              "2  117.091412     13  0.928571  ...  0.094497    0.316  0.376645  0.042448   \n",
              "3  117.981601     13  0.928571  ...  0.157149    0.284  0.419043  0.070674   \n",
              "4  111.732026     13  0.928571  ...  0.162662    0.204  0.354123  0.072988   \n",
              "\n",
              "    feat164   feat165   feat166   feat167  feat168  feat169  \n",
              "0  0.000000  0.000000  0.000000  0.019540    0.340    0.000  \n",
              "1  0.000000  0.000000  0.000000  0.022238    0.332    0.000  \n",
              "2  0.000000  0.000000  0.000000  0.023166    0.452    0.000  \n",
              "3  0.026236  0.015264  0.594278  0.025686    0.256    0.128  \n",
              "4  0.025833  0.014326  0.657085  0.021802    0.328    0.128  \n",
              "\n",
              "[5 rows x 171 columns]"
            ]
          },
          "execution_count": 3,
          "metadata": {},
          "output_type": "execute_result"
        }
      ],
      "source": [
        "df = pd.read_csv(\"ECG.csv\")\n",
        "df.head()"
      ]
    },
    {
      "cell_type": "code",
      "execution_count": 4,
      "metadata": {
        "colab": {
          "base_uri": "https://localhost:8080/"
        },
        "id": "UIjs5vhMv-Jy",
        "outputId": "9662b963-813c-4d79-d594-eeadb5b5f2cd"
      },
      "outputs": [
        {
          "data": {
            "text/plain": [
              "False    171\n",
              "dtype: int64"
            ]
          },
          "execution_count": 4,
          "metadata": {},
          "output_type": "execute_result"
        }
      ],
      "source": [
        "df.isnull().any().value_counts()"
      ]
    },
    {
      "cell_type": "code",
      "execution_count": 5,
      "metadata": {
        "colab": {
          "base_uri": "https://localhost:8080/"
        },
        "id": "vBHWxj7AXh9o",
        "outputId": "fd45fd90-d7d7-423f-aa13-520e2cb2e7f5"
      },
      "outputs": [
        {
          "data": {
            "text/plain": [
              "N    5992\n",
              "O    3151\n",
              "A     923\n",
              "~     187\n",
              "Name: label, dtype: int64"
            ]
          },
          "execution_count": 5,
          "metadata": {},
          "output_type": "execute_result"
        }
      ],
      "source": [
        "df.drop(\"Unnamed: 0\", axis=1, inplace=True)\n",
        "df[\"label\"].value_counts()"
      ]
    },
    {
      "cell_type": "code",
      "execution_count": 6,
      "metadata": {
        "colab": {
          "base_uri": "https://localhost:8080/",
          "height": 472
        },
        "id": "hZA6MEJ_X34M",
        "outputId": "a9f146a7-8b06-4c53-a4b4-66238cb0d891"
      },
      "outputs": [
        {
          "data": {
            "image/png": "[encoded data removed]",
            "text/plain": [
              "<Figure size 640x480 with 1 Axes>"
            ]
          },
          "metadata": {},
          "output_type": "display_data"
        }
      ],
      "source": [
        "df[\"label\"].hist()\n",
        "plt.title(\"Distribution of Each Class\")\n",
        "plt.xlabel(\"Class\")\n",
        "plt.ylabel(\"Count\")\n",
        "plt.show()"
      ]
    },
    {
      "cell_type": "code",
      "execution_count": 7,
      "metadata": {
        "id": "jSY9Y3VpYTCz"
      },
      "outputs": [],
      "source": [
        "num_classes = 4\n",
        "le = LabelEncoder()\n",
        "y = le.fit_transform(df[\"label\"])\n",
        "X = df.drop(\"label\", axis=1)\n",
        "X_train, X_test, y_train, y_test = train_test_split(X, y, test_size=0.1, random_state=42)\n",
        "y_train = keras.utils.to_categorical(y_train, num_classes)\n",
        "y_test = keras.utils.to_categorical(y_test, num_classes)"
      ]
    },
    {
      "cell_type": "markdown",
      "metadata": {},
      "source": [
        "## $\\color{deepskyblue}{\\text{Network Model}}$\n",
        "we used a 4 layers network for classification."
      ]
    },
    {
      "cell_type": "code",
      "execution_count": 8,
      "metadata": {
        "id": "MfC6FkpFZeh-"
      },
      "outputs": [],
      "source": [
        "model = keras.models.Sequential([\n",
        "    keras.layers.Dense(338, activation=\"relu\", input_shape=(169,)),\n",
        "    keras.layers.Dense(150, activation=\"relu\"),\n",
        "    keras.layers.Dense(75, activation=\"relu\"),\n",
        "    keras.layers.Dense(4, activation=\"softmax\")\n",
        "])"
      ]
    },
    {
      "cell_type": "code",
      "execution_count": 9,
      "metadata": {
        "id": "f9ywdIxScAJ5"
      },
      "outputs": [],
      "source": [
        "model.compile(loss=\"categorical_crossentropy\",\n",
        "              optimizer=keras.optimizers.Adam(learning_rate=0.0001),\n",
        "              metrics=[\"accuracy\"])"
      ]
    },
    {
      "cell_type": "code",
      "execution_count": 10,
      "metadata": {
        "colab": {
          "base_uri": "https://localhost:8080/"
        },
        "id": "Wk6EoLsv_6Kv",
        "outputId": "a29a719f-ed55-461a-d069-0a72f1c4811a"
      },
      "outputs": [
        {
          "name": "stdout",
          "output_type": "stream",
          "text": [
            "Model: \"sequential\"\n",
            "_________________________________________________________________\n",
            " Layer (type)                Output Shape              Param #   \n",
            "=================================================================\n",
            " dense (Dense)               (None, 338)               57460     \n",
            "                                                                 \n",
            " dense_1 (Dense)             (None, 150)               50850     \n",
            "                                                                 \n",
            " dense_2 (Dense)             (None, 75)                11325     \n",
            "                                                                 \n",
            " dense_3 (Dense)             (None, 4)                 304       \n",
            "                                                                 \n",
            "=================================================================\n",
            "Total params: 119,939\n",
            "Trainable params: 119,939\n",
            "Non-trainable params: 0\n",
            "_________________________________________________________________\n"
          ]
        }
      ],
      "source": [
        "model.summary()"
      ]
    },
    {
      "cell_type": "code",
      "execution_count": 10,
      "metadata": {
        "colab": {
          "base_uri": "https://localhost:8080/"
        },
        "id": "caAipXKfcDE-",
        "outputId": "20832a22-308a-4767-a5bb-98ed525560da"
      },
      "outputs": [
        {
          "name": "stdout",
          "output_type": "stream",
          "text": [
            "Epoch 1/50\n",
            "246/246 [==============================] - 3s 7ms/step - loss: 112.5147 - accuracy: 0.5647 - val_loss: 106.3302 - val_accuracy: 0.6462\n",
            "Epoch 2/50\n",
            "246/246 [==============================] - 2s 8ms/step - loss: 43.2821 - accuracy: 0.6067 - val_loss: 14.3401 - val_accuracy: 0.6231\n",
            "Epoch 3/50\n",
            "246/246 [==============================] - 2s 8ms/step - loss: 162.3560 - accuracy: 0.5865 - val_loss: 19.0106 - val_accuracy: 0.6383\n",
            "Epoch 4/50\n",
            "246/246 [==============================] - 3s 10ms/step - loss: 96.5337 - accuracy: 0.6136 - val_loss: 313.7549 - val_accuracy: 0.4794\n",
            "Epoch 5/50\n",
            "246/246 [==============================] - 2s 9ms/step - loss: 115.2736 - accuracy: 0.6305 - val_loss: 66.2855 - val_accuracy: 0.6505\n",
            "Epoch 6/50\n",
            "246/246 [==============================] - 3s 11ms/step - loss: 182.5924 - accuracy: 0.5840 - val_loss: 30.6545 - val_accuracy: 0.5964\n",
            "Epoch 7/50\n",
            "246/246 [==============================] - 2s 8ms/step - loss: 16.7331 - accuracy: 0.6370 - val_loss: 38.7639 - val_accuracy: 0.6469\n",
            "Epoch 8/50\n",
            "246/246 [==============================] - 1s 5ms/step - loss: 186.1826 - accuracy: 0.5958 - val_loss: 32.5383 - val_accuracy: 0.6556\n",
            "Epoch 9/50\n",
            "246/246 [==============================] - 1s 4ms/step - loss: 180.8019 - accuracy: 0.6071 - val_loss: 33.1445 - val_accuracy: 0.5336\n",
            "Epoch 10/50\n",
            "246/246 [==============================] - 1s 5ms/step - loss: 16.8127 - accuracy: 0.6701 - val_loss: 19.4412 - val_accuracy: 0.6765\n",
            "Epoch 11/50\n",
            "246/246 [==============================] - 1s 4ms/step - loss: 14.7694 - accuracy: 0.6648 - val_loss: 36.1791 - val_accuracy: 0.5819\n",
            "Epoch 12/50\n",
            "246/246 [==============================] - 1s 4ms/step - loss: 18.4532 - accuracy: 0.6704 - val_loss: 17.3412 - val_accuracy: 0.6931\n",
            "Epoch 13/50\n",
            "246/246 [==============================] - 1s 5ms/step - loss: 13.2899 - accuracy: 0.6699 - val_loss: 23.3586 - val_accuracy: 0.6383\n",
            "Epoch 14/50\n",
            "246/246 [==============================] - 1s 5ms/step - loss: 14.1912 - accuracy: 0.6670 - val_loss: 16.8582 - val_accuracy: 0.5329\n",
            "Epoch 15/50\n",
            "246/246 [==============================] - 1s 6ms/step - loss: 15.8092 - accuracy: 0.6575 - val_loss: 31.8225 - val_accuracy: 0.5646\n",
            "Epoch 16/50\n",
            "246/246 [==============================] - 2s 8ms/step - loss: 226.4853 - accuracy: 0.6228 - val_loss: 44.0396 - val_accuracy: 0.5350\n",
            "Epoch 17/50\n",
            "246/246 [==============================] - 1s 6ms/step - loss: 22.7705 - accuracy: 0.6667 - val_loss: 7.8326 - val_accuracy: 0.6614\n",
            "Epoch 18/50\n",
            "246/246 [==============================] - 1s 5ms/step - loss: 142.3829 - accuracy: 0.6317 - val_loss: 25.2602 - val_accuracy: 0.7227\n",
            "Epoch 19/50\n",
            "246/246 [==============================] - 1s 5ms/step - loss: 119.3818 - accuracy: 0.6352 - val_loss: 20.9703 - val_accuracy: 0.6852\n",
            "Epoch 20/50\n",
            "246/246 [==============================] - 1s 5ms/step - loss: 14.2867 - accuracy: 0.6820 - val_loss: 14.1966 - val_accuracy: 0.6700\n",
            "Epoch 21/50\n",
            "246/246 [==============================] - 1s 5ms/step - loss: 104.9309 - accuracy: 0.6548 - val_loss: 736.3978 - val_accuracy: 0.5141\n",
            "Epoch 22/50\n",
            "246/246 [==============================] - 1s 4ms/step - loss: 117.0049 - accuracy: 0.6507 - val_loss: 30.5791 - val_accuracy: 0.7177\n",
            "Epoch 23/50\n",
            "246/246 [==============================] - 1s 4ms/step - loss: 16.5308 - accuracy: 0.6700 - val_loss: 19.4357 - val_accuracy: 0.7061\n",
            "Epoch 24/50\n",
            "246/246 [==============================] - 1s 5ms/step - loss: 53.1251 - accuracy: 0.6813 - val_loss: 1046.9191 - val_accuracy: 0.5018\n",
            "Epoch 25/50\n",
            "246/246 [==============================] - 1s 6ms/step - loss: 122.8128 - accuracy: 0.6404 - val_loss: 23.3664 - val_accuracy: 0.7126\n",
            "Epoch 26/50\n",
            "246/246 [==============================] - 2s 8ms/step - loss: 9.4877 - accuracy: 0.7059 - val_loss: 22.3907 - val_accuracy: 0.7134\n",
            "Epoch 27/50\n",
            "246/246 [==============================] - 1s 4ms/step - loss: 9.7023 - accuracy: 0.7104 - val_loss: 8.1245 - val_accuracy: 0.7430\n",
            "Epoch 28/50\n",
            "246/246 [==============================] - 1s 5ms/step - loss: 10.1869 - accuracy: 0.7048 - val_loss: 25.2296 - val_accuracy: 0.6996\n",
            "Epoch 29/50\n",
            "246/246 [==============================] - 1s 5ms/step - loss: 12.3493 - accuracy: 0.6822 - val_loss: 21.0008 - val_accuracy: 0.7040\n",
            "Epoch 30/50\n",
            "246/246 [==============================] - 1s 5ms/step - loss: 12.3344 - accuracy: 0.7010 - val_loss: 12.5321 - val_accuracy: 0.7249\n",
            "Epoch 31/50\n",
            "246/246 [==============================] - 1s 5ms/step - loss: 37.6853 - accuracy: 0.6890 - val_loss: 1054.0220 - val_accuracy: 0.5105\n",
            "Epoch 32/50\n",
            "246/246 [==============================] - 1s 5ms/step - loss: 127.6107 - accuracy: 0.6302 - val_loss: 27.0948 - val_accuracy: 0.6217\n",
            "Epoch 33/50\n",
            "246/246 [==============================] - 1s 5ms/step - loss: 14.9564 - accuracy: 0.6960 - val_loss: 59.0664 - val_accuracy: 0.6159\n",
            "Epoch 34/50\n",
            "246/246 [==============================] - 1s 5ms/step - loss: 18.3659 - accuracy: 0.6989 - val_loss: 15.2155 - val_accuracy: 0.7191\n",
            "Epoch 35/50\n",
            "246/246 [==============================] - 2s 7ms/step - loss: 10.1415 - accuracy: 0.7142 - val_loss: 20.3831 - val_accuracy: 0.6917\n",
            "Epoch 36/50\n",
            "246/246 [==============================] - 2s 7ms/step - loss: 15.0047 - accuracy: 0.7150 - val_loss: 14.0985 - val_accuracy: 0.7516\n",
            "Epoch 37/50\n",
            "246/246 [==============================] - 1s 5ms/step - loss: 105.9273 - accuracy: 0.6505 - val_loss: 80.6821 - val_accuracy: 0.6621\n",
            "Epoch 38/50\n",
            "246/246 [==============================] - 1s 5ms/step - loss: 89.6850 - accuracy: 0.6440 - val_loss: 172.4656 - val_accuracy: 0.7170\n",
            "Epoch 39/50\n",
            "246/246 [==============================] - 1s 5ms/step - loss: 77.3456 - accuracy: 0.7107 - val_loss: 61.8175 - val_accuracy: 0.4758\n",
            "Epoch 40/50\n",
            "246/246 [==============================] - 1s 4ms/step - loss: 117.9436 - accuracy: 0.6316 - val_loss: 24.4096 - val_accuracy: 0.6773\n",
            "Epoch 41/50\n",
            "246/246 [==============================] - 1s 5ms/step - loss: 14.1360 - accuracy: 0.6920 - val_loss: 19.8627 - val_accuracy: 0.7264\n",
            "Epoch 42/50\n",
            "246/246 [==============================] - 1s 5ms/step - loss: 11.1214 - accuracy: 0.6963 - val_loss: 7.6945 - val_accuracy: 0.7386\n",
            "Epoch 43/50\n",
            "246/246 [==============================] - 1s 4ms/step - loss: 9.9670 - accuracy: 0.7058 - val_loss: 12.3608 - val_accuracy: 0.7083\n",
            "Epoch 44/50\n",
            "246/246 [==============================] - 1s 5ms/step - loss: 10.7884 - accuracy: 0.6961 - val_loss: 6.9276 - val_accuracy: 0.7495\n",
            "Epoch 45/50\n",
            "246/246 [==============================] - 2s 7ms/step - loss: 105.7310 - accuracy: 0.6654 - val_loss: 18.0235 - val_accuracy: 0.6686\n",
            "Epoch 46/50\n",
            "246/246 [==============================] - 2s 7ms/step - loss: 68.3020 - accuracy: 0.6612 - val_loss: 25.2006 - val_accuracy: 0.6989\n",
            "Epoch 47/50\n",
            "246/246 [==============================] - 1s 5ms/step - loss: 12.1904 - accuracy: 0.6941 - val_loss: 9.3392 - val_accuracy: 0.7307\n",
            "Epoch 48/50\n",
            "246/246 [==============================] - 1s 5ms/step - loss: 7.1100 - accuracy: 0.7118 - val_loss: 9.6426 - val_accuracy: 0.6513\n",
            "Epoch 49/50\n",
            "246/246 [==============================] - 1s 4ms/step - loss: 58.1330 - accuracy: 0.6669 - val_loss: 31.4406 - val_accuracy: 0.6866\n",
            "Epoch 50/50\n",
            "246/246 [==============================] - 1s 4ms/step - loss: 52.8568 - accuracy: 0.6636 - val_loss: 23.1863 - val_accuracy: 0.7249\n"
          ]
        }
      ],
      "source": [
        "history = model.fit(X_train, y_train, epochs=50, validation_split=0.15)"
      ]
    },
    {
      "cell_type": "code",
      "execution_count": 11,
      "metadata": {
        "colab": {
          "base_uri": "https://localhost:8080/"
        },
        "id": "OlpOS55U1Td6",
        "outputId": "af9cd55c-189e-4ec3-e6fa-6b825a8d0f4d"
      },
      "outputs": [
        {
          "data": {
            "text/plain": [
              "[25.794219970703125, 0.6978557705879211]"
            ]
          },
          "execution_count": 11,
          "metadata": {},
          "output_type": "execute_result"
        }
      ],
      "source": [
        "model.evaluate(X_test, y_test, verbose=0)"
      ]
    },
    {
      "cell_type": "code",
      "execution_count": 37,
      "metadata": {
        "id": "DiV2umKA4hV-"
      },
      "outputs": [],
      "source": [
        "def chose_class(y):\n",
        "  labels = ['O', 'A', 'N', '~']\n",
        "  y_pred_label = [0]*y.shape[0]\n",
        "  for row_i in range(y.shape[0]):\n",
        "    i = np.argmax(y[row_i])\n",
        "    y_pred_label[row_i] = labels[i]\n",
        "  return y_pred_label\n"
      ]
    },
    {
      "cell_type": "code",
      "execution_count": 45,
      "metadata": {
        "colab": {
          "base_uri": "https://localhost:8080/"
        },
        "id": "r0tJwdDp0goz",
        "outputId": "36a62701-7b5a-47d9-c94a-94d5db3b7862"
      },
      "outputs": [
        {
          "name": "stdout",
          "output_type": "stream",
          "text": [
            "33/33 [==============================] - 0s 2ms/step\n",
            "Classification Report:\n",
            "              precision    recall  f1-score   support\n",
            "\n",
            "           O       0.82      0.79      0.80       590\n",
            "           A       0.55      0.70      0.62       321\n",
            "           N       0.52      0.29      0.37        98\n",
            "           ~       0.00      0.00      0.00        17\n",
            "\n",
            "    accuracy                           0.70      1026\n",
            "   macro avg       0.47      0.44      0.45      1026\n",
            "weighted avg       0.69      0.70      0.69      1026\n",
            "\n"
          ]
        }
      ],
      "source": [
        "from sklearn.metrics import confusion_matrix, classification_report\n",
        "y_pred = model.predict(X_test)\n",
        "y_pred_label = chose_class(y_pred)\n",
        "y_test_label = chose_class(y_test)\n",
        "report = classification_report(y_test_label, y_pred_label, target_names=df.label.unique())\n",
        "print(\"Classification Report:\")\n",
        "print(report)"
      ]
    },
    {
      "cell_type": "code",
      "execution_count": 48,
      "metadata": {
        "colab": {
          "base_uri": "https://localhost:8080/",
          "height": 564
        },
        "id": "Y7yRfZdL0glZ",
        "outputId": "ab9e208a-de27-4e45-de39-9373d1bd860e"
      },
      "outputs": [
        {
          "data": {
            "image/png": "[encoded data removed]",
            "text/plain": [
              "<Figure size 800x600 with 2 Axes>"
            ]
          },
          "metadata": {},
          "output_type": "display_data"
        }
      ],
      "source": [
        "cm = confusion_matrix(y_test_label, y_pred_label)\n",
        "plt.figure(figsize=(8, 6))\n",
        "sns.heatmap(cm, annot=True, cmap=\"Blues\")\n",
        "plt.xlabel(\"Predicted Labels\")\n",
        "plt.ylabel(\"True Labels\")\n",
        "plt.title(\"Confusion Matrix\")\n",
        "plt.show()"
      ]
    },
    {
      "cell_type": "markdown",
      "metadata": {},
      "source": [
        "## $\\color{deepskyblue}{\\text{Normalization}}$\n",
        "In this part we normalize our data and start training with the previous network."
      ]
    },
    {
      "cell_type": "code",
      "execution_count": 51,
      "metadata": {
        "id": "_MtM1FKj1G2R"
      },
      "outputs": [],
      "source": [
        "from sklearn.preprocessing import StandardScaler\n",
        "scaler = StandardScaler()\n",
        "x_train = scaler.fit_transform(X_train)\n",
        "x_test = scaler.transform(X_test)"
      ]
    },
    {
      "cell_type": "code",
      "execution_count": 53,
      "metadata": {
        "id": "OyZuSh24ob4x"
      },
      "outputs": [],
      "source": [
        "model2 = keras.models.Sequential([\n",
        "    keras.layers.Dense(338, activation=\"relu\", input_shape=(169,)),\n",
        "    keras.layers.Dense(150, activation=\"relu\"),\n",
        "    keras.layers.Dense(75, activation=\"relu\"),\n",
        "    keras.layers.Dense(4, activation=\"softmax\")\n",
        "])\n",
        "model2.compile(loss=\"categorical_crossentropy\",\n",
        "              optimizer=keras.optimizers.Adam(learning_rate=0.0001),\n",
        "              metrics=[\"accuracy\"])"
      ]
    },
    {
      "cell_type": "code",
      "execution_count": 54,
      "metadata": {
        "colab": {
          "base_uri": "https://localhost:8080/"
        },
        "id": "jwrQFLLr1Mt_",
        "outputId": "958954d2-cf65-4027-bf62-06b27b9e3917"
      },
      "outputs": [
        {
          "name": "stdout",
          "output_type": "stream",
          "text": [
            "Epoch 1/50\n",
            "246/246 [==============================] - 3s 9ms/step - loss: 0.7435 - accuracy: 0.7191 - val_loss: 0.5705 - val_accuracy: 0.7646\n",
            "Epoch 2/50\n",
            "246/246 [==============================] - 1s 6ms/step - loss: 0.5212 - accuracy: 0.7948 - val_loss: 0.5129 - val_accuracy: 0.7986\n",
            "Epoch 3/50\n",
            "246/246 [==============================] - 1s 5ms/step - loss: 0.4702 - accuracy: 0.8168 - val_loss: 0.4851 - val_accuracy: 0.8116\n",
            "Epoch 4/50\n",
            "246/246 [==============================] - 1s 5ms/step - loss: 0.4339 - accuracy: 0.8313 - val_loss: 0.4705 - val_accuracy: 0.8130\n",
            "Epoch 5/50\n",
            "246/246 [==============================] - 1s 5ms/step - loss: 0.4072 - accuracy: 0.8438 - val_loss: 0.4590 - val_accuracy: 0.8260\n",
            "Epoch 6/50\n",
            "246/246 [==============================] - 1s 5ms/step - loss: 0.3817 - accuracy: 0.8546 - val_loss: 0.4551 - val_accuracy: 0.8195\n",
            "Epoch 7/50\n",
            "246/246 [==============================] - 1s 4ms/step - loss: 0.3595 - accuracy: 0.8651 - val_loss: 0.4374 - val_accuracy: 0.8339\n",
            "Epoch 8/50\n",
            "246/246 [==============================] - 1s 5ms/step - loss: 0.3391 - accuracy: 0.8729 - val_loss: 0.4318 - val_accuracy: 0.8354\n",
            "Epoch 9/50\n",
            "246/246 [==============================] - 1s 4ms/step - loss: 0.3226 - accuracy: 0.8782 - val_loss: 0.4288 - val_accuracy: 0.8354\n",
            "Epoch 10/50\n",
            "246/246 [==============================] - 1s 5ms/step - loss: 0.3032 - accuracy: 0.8902 - val_loss: 0.4239 - val_accuracy: 0.8397\n",
            "Epoch 11/50\n",
            "246/246 [==============================] - 2s 7ms/step - loss: 0.2836 - accuracy: 0.8986 - val_loss: 0.4236 - val_accuracy: 0.8469\n",
            "Epoch 12/50\n",
            "246/246 [==============================] - 1s 6ms/step - loss: 0.2683 - accuracy: 0.9017 - val_loss: 0.4145 - val_accuracy: 0.8448\n",
            "Epoch 13/50\n",
            "246/246 [==============================] - 1s 5ms/step - loss: 0.2528 - accuracy: 0.9112 - val_loss: 0.4146 - val_accuracy: 0.8469\n",
            "Epoch 14/50\n",
            "246/246 [==============================] - 1s 4ms/step - loss: 0.2393 - accuracy: 0.9149 - val_loss: 0.4206 - val_accuracy: 0.8505\n",
            "Epoch 15/50\n",
            "246/246 [==============================] - 1s 5ms/step - loss: 0.2242 - accuracy: 0.9231 - val_loss: 0.4116 - val_accuracy: 0.8513\n",
            "Epoch 16/50\n",
            "246/246 [==============================] - 1s 5ms/step - loss: 0.2093 - accuracy: 0.9287 - val_loss: 0.4170 - val_accuracy: 0.8469\n",
            "Epoch 17/50\n",
            "246/246 [==============================] - 1s 5ms/step - loss: 0.1940 - accuracy: 0.9360 - val_loss: 0.4095 - val_accuracy: 0.8563\n",
            "Epoch 18/50\n",
            "246/246 [==============================] - 1s 5ms/step - loss: 0.1819 - accuracy: 0.9417 - val_loss: 0.4328 - val_accuracy: 0.8462\n",
            "Epoch 19/50\n",
            "246/246 [==============================] - 1s 5ms/step - loss: 0.1753 - accuracy: 0.9440 - val_loss: 0.4223 - val_accuracy: 0.8498\n",
            "Epoch 20/50\n",
            "246/246 [==============================] - 1s 5ms/step - loss: 0.1582 - accuracy: 0.9504 - val_loss: 0.4284 - val_accuracy: 0.8520\n",
            "Epoch 21/50\n",
            "246/246 [==============================] - 2s 7ms/step - loss: 0.1475 - accuracy: 0.9543 - val_loss: 0.4206 - val_accuracy: 0.8556\n",
            "Epoch 22/50\n",
            "246/246 [==============================] - 1s 6ms/step - loss: 0.1366 - accuracy: 0.9593 - val_loss: 0.4311 - val_accuracy: 0.8520\n",
            "Epoch 23/50\n",
            "246/246 [==============================] - 1s 5ms/step - loss: 0.1273 - accuracy: 0.9634 - val_loss: 0.4190 - val_accuracy: 0.8585\n",
            "Epoch 24/50\n",
            "246/246 [==============================] - 1s 6ms/step - loss: 0.1165 - accuracy: 0.9677 - val_loss: 0.4301 - val_accuracy: 0.8563\n",
            "Epoch 25/50\n",
            "246/246 [==============================] - 1s 5ms/step - loss: 0.1058 - accuracy: 0.9688 - val_loss: 0.4427 - val_accuracy: 0.8542\n",
            "Epoch 26/50\n",
            "246/246 [==============================] - 1s 4ms/step - loss: 0.0943 - accuracy: 0.9750 - val_loss: 0.4566 - val_accuracy: 0.8563\n",
            "Epoch 27/50\n",
            "246/246 [==============================] - 1s 5ms/step - loss: 0.0887 - accuracy: 0.9787 - val_loss: 0.4516 - val_accuracy: 0.8570\n",
            "Epoch 28/50\n",
            "246/246 [==============================] - 1s 4ms/step - loss: 0.0784 - accuracy: 0.9806 - val_loss: 0.4734 - val_accuracy: 0.8585\n",
            "Epoch 29/50\n",
            "246/246 [==============================] - 1s 6ms/step - loss: 0.0766 - accuracy: 0.9813 - val_loss: 0.4780 - val_accuracy: 0.8621\n",
            "Epoch 30/50\n",
            "246/246 [==============================] - 1s 5ms/step - loss: 0.0683 - accuracy: 0.9832 - val_loss: 0.5001 - val_accuracy: 0.8527\n",
            "Epoch 31/50\n",
            "246/246 [==============================] - 2s 8ms/step - loss: 0.0600 - accuracy: 0.9876 - val_loss: 0.4858 - val_accuracy: 0.8599\n",
            "Epoch 32/50\n",
            "246/246 [==============================] - 1s 6ms/step - loss: 0.0539 - accuracy: 0.9899 - val_loss: 0.4893 - val_accuracy: 0.8657\n",
            "Epoch 33/50\n",
            "246/246 [==============================] - 1s 4ms/step - loss: 0.0471 - accuracy: 0.9930 - val_loss: 0.4942 - val_accuracy: 0.8650\n",
            "Epoch 34/50\n",
            "246/246 [==============================] - 1s 5ms/step - loss: 0.0431 - accuracy: 0.9935 - val_loss: 0.5193 - val_accuracy: 0.8570\n",
            "Epoch 35/50\n",
            "246/246 [==============================] - 1s 5ms/step - loss: 0.0412 - accuracy: 0.9938 - val_loss: 0.5367 - val_accuracy: 0.8671\n",
            "Epoch 36/50\n",
            "246/246 [==============================] - 1s 4ms/step - loss: 0.0356 - accuracy: 0.9948 - val_loss: 0.5173 - val_accuracy: 0.8628\n",
            "Epoch 37/50\n",
            "246/246 [==============================] - 1s 5ms/step - loss: 0.0315 - accuracy: 0.9960 - val_loss: 0.5383 - val_accuracy: 0.8643\n",
            "Epoch 38/50\n",
            "246/246 [==============================] - 1s 5ms/step - loss: 0.0287 - accuracy: 0.9964 - val_loss: 0.5406 - val_accuracy: 0.8686\n",
            "Epoch 39/50\n",
            "246/246 [==============================] - 1s 4ms/step - loss: 0.0258 - accuracy: 0.9973 - val_loss: 0.5833 - val_accuracy: 0.8686\n",
            "Epoch 40/50\n",
            "246/246 [==============================] - 1s 5ms/step - loss: 0.0267 - accuracy: 0.9964 - val_loss: 0.5720 - val_accuracy: 0.8664\n",
            "Epoch 41/50\n",
            "246/246 [==============================] - 2s 8ms/step - loss: 0.0197 - accuracy: 0.9982 - val_loss: 0.5822 - val_accuracy: 0.8585\n",
            "Epoch 42/50\n",
            "246/246 [==============================] - 2s 6ms/step - loss: 0.0183 - accuracy: 0.9985 - val_loss: 0.5620 - val_accuracy: 0.8650\n",
            "Epoch 43/50\n",
            "246/246 [==============================] - 2s 8ms/step - loss: 0.0148 - accuracy: 0.9991 - val_loss: 0.6107 - val_accuracy: 0.8621\n",
            "Epoch 44/50\n",
            "246/246 [==============================] - 1s 5ms/step - loss: 0.0165 - accuracy: 0.9983 - val_loss: 0.6064 - val_accuracy: 0.8671\n",
            "Epoch 45/50\n",
            "246/246 [==============================] - 1s 5ms/step - loss: 0.0127 - accuracy: 0.9986 - val_loss: 0.6341 - val_accuracy: 0.8664\n",
            "Epoch 46/50\n",
            "246/246 [==============================] - 1s 4ms/step - loss: 0.0117 - accuracy: 0.9991 - val_loss: 0.6382 - val_accuracy: 0.8643\n",
            "Epoch 47/50\n",
            "246/246 [==============================] - 1s 5ms/step - loss: 0.0341 - accuracy: 0.9925 - val_loss: 0.6453 - val_accuracy: 0.8650\n",
            "Epoch 48/50\n",
            "246/246 [==============================] - 1s 4ms/step - loss: 0.0207 - accuracy: 0.9958 - val_loss: 0.6428 - val_accuracy: 0.8643\n",
            "Epoch 49/50\n",
            "246/246 [==============================] - 1s 5ms/step - loss: 0.0106 - accuracy: 0.9990 - val_loss: 0.6349 - val_accuracy: 0.8650\n",
            "Epoch 50/50\n",
            "246/246 [==============================] - 2s 8ms/step - loss: 0.0089 - accuracy: 0.9990 - val_loss: 0.6724 - val_accuracy: 0.8708\n"
          ]
        }
      ],
      "source": [
        "history2 = model2.fit(x_train, y_train, epochs=50, validation_split=0.15)"
      ]
    },
    {
      "cell_type": "code",
      "execution_count": 55,
      "metadata": {
        "colab": {
          "base_uri": "https://localhost:8080/"
        },
        "id": "Yv8zHl-P1muJ",
        "outputId": "08292fac-1fbe-4ba5-b6f4-c159161d46a1"
      },
      "outputs": [
        {
          "data": {
            "text/plain": [
              "[0.8309987783432007, 0.8547758460044861]"
            ]
          },
          "execution_count": 55,
          "metadata": {},
          "output_type": "execute_result"
        }
      ],
      "source": [
        "model2.evaluate(x_test, y_test, verbose=0)"
      ]
    },
    {
      "cell_type": "code",
      "execution_count": 58,
      "metadata": {
        "colab": {
          "base_uri": "https://localhost:8080/"
        },
        "id": "U9C09v8p7_sh",
        "outputId": "1b4f5e63-15b5-42a9-a4dd-d4a146ef7a6f"
      },
      "outputs": [
        {
          "name": "stdout",
          "output_type": "stream",
          "text": [
            "33/33 [==============================] - 1s 7ms/step\n",
            "Classification Report:\n",
            "              precision    recall  f1-score   support\n",
            "\n",
            "           O       0.89      0.91      0.90       590\n",
            "           A       0.81      0.79      0.80       321\n",
            "           N       0.88      0.85      0.86        98\n",
            "           ~       0.44      0.41      0.42        17\n",
            "\n",
            "    accuracy                           0.85      1026\n",
            "   macro avg       0.75      0.74      0.75      1026\n",
            "weighted avg       0.85      0.85      0.85      1026\n",
            "\n"
          ]
        }
      ],
      "source": [
        "from sklearn.metrics import confusion_matrix, classification_report\n",
        "y_pred = model2.predict(x_test)\n",
        "y_pred_label = chose_class(y_pred)\n",
        "y_test_label = chose_class(y_test)\n",
        "report = classification_report(y_test_label, y_pred_label, target_names=df.label.unique())\n",
        "print(\"Classification Report:\")\n",
        "print(report)"
      ]
    },
    {
      "cell_type": "code",
      "execution_count": 59,
      "metadata": {
        "colab": {
          "base_uri": "https://localhost:8080/",
          "height": 564
        },
        "id": "Re737IKR7_oD",
        "outputId": "9d93e192-2e54-42a1-fdc7-bf104f7a0178"
      },
      "outputs": [
        {
          "data": {
            "image/png": "[encoded data removed]",
            "text/plain": [
              "<Figure size 800x600 with 2 Axes>"
            ]
          },
          "metadata": {},
          "output_type": "display_data"
        }
      ],
      "source": [
        "cm = confusion_matrix(y_test_label, y_pred_label)\n",
        "plt.figure(figsize=(8, 6))\n",
        "sns.heatmap(cm, annot=True)\n",
        "plt.xlabel(\"Predicted Labels\")\n",
        "plt.ylabel(\"True Labels\")\n",
        "plt.title(\"Confusion Matrix\")\n",
        "plt.show()"
      ]
    },
    {
      "cell_type": "markdown",
      "metadata": {},
      "source": [
        "## $\\color{deepskyblue}{\\text{Preprocessing 2}}$\n",
        "Now, we omit 2 classes with less population to increase accuracy."
      ]
    },
    {
      "cell_type": "code",
      "execution_count": 60,
      "metadata": {
        "id": "T3K-6Lxq2758"
      },
      "outputs": [],
      "source": [
        "def change_dataset(x):\n",
        "  if x[\"label\"] == \"A\" or x[\"label\"] == \"O\":\n",
        "    return \"AN\"\n",
        "  else:\n",
        "    return x[\"label\"]"
      ]
    },
    {
      "cell_type": "code",
      "execution_count": 61,
      "metadata": {
        "id": "xcYvOHsf3gMs"
      },
      "outputs": [],
      "source": [
        "df2 = pd.read_csv(\"ECG.csv\")"
      ]
    },
    {
      "cell_type": "code",
      "execution_count": 62,
      "metadata": {
        "colab": {
          "base_uri": "https://localhost:8080/"
        },
        "id": "r3Kii5fa4Iiw",
        "outputId": "c95e7093-1ea9-4dc1-c224-5df45533a186"
      },
      "outputs": [
        {
          "data": {
            "text/plain": [
              "N     5992\n",
              "AN    4074\n",
              "Name: label, dtype: int64"
            ]
          },
          "execution_count": 62,
          "metadata": {},
          "output_type": "execute_result"
        }
      ],
      "source": [
        "df2[\"label\"] = df2.apply(change_dataset, axis=1)\n",
        "df2.drop(\"Unnamed: 0\", axis=1, inplace=True)\n",
        "df2 = df2[df2[\"label\"] != '~']\n",
        "df2[\"label\"].value_counts()"
      ]
    },
    {
      "cell_type": "code",
      "execution_count": 63,
      "metadata": {
        "id": "KjMm7exHtI6D"
      },
      "outputs": [],
      "source": [
        "num_classes = 2\n",
        "le = LabelEncoder()\n",
        "y = le.fit_transform(df2[\"label\"])\n",
        "X = df2.drop(\"label\", axis=1)\n",
        "X_train, X_test, y_train, y_test = train_test_split(X, y, test_size=0.1, random_state=42)\n",
        "y_train = keras.utils.to_categorical(y_train, num_classes)\n",
        "y_test = keras.utils.to_categorical(y_test, num_classes)"
      ]
    },
    {
      "cell_type": "code",
      "execution_count": 64,
      "metadata": {
        "id": "hynsJzfUtMVN"
      },
      "outputs": [],
      "source": [
        "from sklearn.preprocessing import StandardScaler\n",
        "scaler = StandardScaler()\n",
        "x_train = scaler.fit_transform(X_train)\n",
        "x_test = scaler.transform(X_test)"
      ]
    },
    {
      "cell_type": "code",
      "execution_count": 65,
      "metadata": {
        "id": "2j37WRbLtMQb"
      },
      "outputs": [],
      "source": [
        "model3 = keras.models.Sequential([\n",
        "    keras.layers.Dense(338, activation=\"relu\", input_shape=(169,)),\n",
        "    keras.layers.Dense(150, activation=\"relu\"),\n",
        "    keras.layers.Dense(75, activation=\"relu\"),\n",
        "    keras.layers.Dense(2, activation=\"softmax\")\n",
        "])\n",
        "model3.compile(loss=\"categorical_crossentropy\",\n",
        "              optimizer=keras.optimizers.Adam(learning_rate=0.0001),\n",
        "              metrics=[\"accuracy\"])"
      ]
    },
    {
      "cell_type": "code",
      "execution_count": 66,
      "metadata": {
        "colab": {
          "base_uri": "https://localhost:8080/"
        },
        "id": "sAvHCFsdtTgd",
        "outputId": "90c27a91-cba7-4e22-b04e-c02d6eeffc49"
      },
      "outputs": [
        {
          "name": "stdout",
          "output_type": "stream",
          "text": [
            "Epoch 1/50\n",
            "241/241 [==============================] - 3s 8ms/step - loss: 0.4619 - accuracy: 0.7970 - val_loss: 0.4222 - val_accuracy: 0.8227\n",
            "Epoch 2/50\n",
            "241/241 [==============================] - 1s 5ms/step - loss: 0.3694 - accuracy: 0.8452 - val_loss: 0.3907 - val_accuracy: 0.8352\n",
            "Epoch 3/50\n",
            "241/241 [==============================] - 1s 5ms/step - loss: 0.3343 - accuracy: 0.8616 - val_loss: 0.3768 - val_accuracy: 0.8440\n",
            "Epoch 4/50\n",
            "241/241 [==============================] - 1s 5ms/step - loss: 0.3086 - accuracy: 0.8725 - val_loss: 0.3615 - val_accuracy: 0.8484\n",
            "Epoch 5/50\n",
            "241/241 [==============================] - 3s 11ms/step - loss: 0.2883 - accuracy: 0.8834 - val_loss: 0.3523 - val_accuracy: 0.8587\n",
            "Epoch 6/50\n",
            "241/241 [==============================] - 3s 10ms/step - loss: 0.2687 - accuracy: 0.8969 - val_loss: 0.3442 - val_accuracy: 0.8565\n",
            "Epoch 7/50\n",
            "241/241 [==============================] - 3s 12ms/step - loss: 0.2514 - accuracy: 0.9027 - val_loss: 0.3355 - val_accuracy: 0.8609\n",
            "Epoch 8/50\n",
            "241/241 [==============================] - 3s 11ms/step - loss: 0.2349 - accuracy: 0.9105 - val_loss: 0.3405 - val_accuracy: 0.8602\n",
            "Epoch 9/50\n",
            "241/241 [==============================] - 2s 8ms/step - loss: 0.2191 - accuracy: 0.9190 - val_loss: 0.3218 - val_accuracy: 0.8668\n",
            "Epoch 10/50\n",
            "241/241 [==============================] - 2s 9ms/step - loss: 0.2018 - accuracy: 0.9274 - val_loss: 0.3266 - val_accuracy: 0.8720\n",
            "Epoch 11/50\n",
            "241/241 [==============================] - 2s 7ms/step - loss: 0.1956 - accuracy: 0.9300 - val_loss: 0.3171 - val_accuracy: 0.8712\n",
            "Epoch 12/50\n",
            "241/241 [==============================] - 2s 7ms/step - loss: 0.1748 - accuracy: 0.9394 - val_loss: 0.3182 - val_accuracy: 0.8764\n",
            "Epoch 13/50\n",
            "241/241 [==============================] - 2s 10ms/step - loss: 0.1601 - accuracy: 0.9451 - val_loss: 0.3163 - val_accuracy: 0.8720\n",
            "Epoch 14/50\n",
            "241/241 [==============================] - 3s 14ms/step - loss: 0.1495 - accuracy: 0.9510 - val_loss: 0.3239 - val_accuracy: 0.8705\n",
            "Epoch 15/50\n",
            "241/241 [==============================] - 2s 10ms/step - loss: 0.1358 - accuracy: 0.9570 - val_loss: 0.3317 - val_accuracy: 0.8653\n",
            "Epoch 16/50\n",
            "241/241 [==============================] - 2s 10ms/step - loss: 0.1233 - accuracy: 0.9619 - val_loss: 0.3272 - val_accuracy: 0.8683\n",
            "Epoch 17/50\n",
            "241/241 [==============================] - 3s 11ms/step - loss: 0.1118 - accuracy: 0.9640 - val_loss: 0.3271 - val_accuracy: 0.8808\n",
            "Epoch 18/50\n",
            "241/241 [==============================] - 4s 15ms/step - loss: 0.1023 - accuracy: 0.9691 - val_loss: 0.3446 - val_accuracy: 0.8764\n",
            "Epoch 19/50\n",
            "241/241 [==============================] - 3s 14ms/step - loss: 0.0903 - accuracy: 0.9727 - val_loss: 0.3421 - val_accuracy: 0.8779\n",
            "Epoch 20/50\n",
            "241/241 [==============================] - 3s 10ms/step - loss: 0.0814 - accuracy: 0.9768 - val_loss: 0.3357 - val_accuracy: 0.8793\n",
            "Epoch 21/50\n",
            "241/241 [==============================] - 3s 11ms/step - loss: 0.0737 - accuracy: 0.9801 - val_loss: 0.3465 - val_accuracy: 0.8793\n",
            "Epoch 22/50\n",
            "241/241 [==============================] - 1s 6ms/step - loss: 0.0640 - accuracy: 0.9840 - val_loss: 0.3492 - val_accuracy: 0.8734\n",
            "Epoch 23/50\n",
            "241/241 [==============================] - 1s 6ms/step - loss: 0.0568 - accuracy: 0.9866 - val_loss: 0.3610 - val_accuracy: 0.8756\n",
            "Epoch 24/50\n",
            "241/241 [==============================] - 1s 6ms/step - loss: 0.0500 - accuracy: 0.9894 - val_loss: 0.3781 - val_accuracy: 0.8779\n",
            "Epoch 25/50\n",
            "241/241 [==============================] - 2s 8ms/step - loss: 0.0459 - accuracy: 0.9908 - val_loss: 0.4180 - val_accuracy: 0.8756\n",
            "Epoch 26/50\n",
            "241/241 [==============================] - 1s 5ms/step - loss: 0.0376 - accuracy: 0.9935 - val_loss: 0.3912 - val_accuracy: 0.8764\n",
            "Epoch 27/50\n",
            "241/241 [==============================] - 1s 5ms/step - loss: 0.0350 - accuracy: 0.9957 - val_loss: 0.3838 - val_accuracy: 0.8845\n",
            "Epoch 28/50\n",
            "241/241 [==============================] - 1s 5ms/step - loss: 0.0263 - accuracy: 0.9977 - val_loss: 0.4405 - val_accuracy: 0.8874\n",
            "Epoch 29/50\n",
            "241/241 [==============================] - 1s 5ms/step - loss: 0.0277 - accuracy: 0.9970 - val_loss: 0.4137 - val_accuracy: 0.8808\n",
            "Epoch 30/50\n",
            "241/241 [==============================] - 1s 5ms/step - loss: 0.0212 - accuracy: 0.9981 - val_loss: 0.4528 - val_accuracy: 0.8889\n",
            "Epoch 31/50\n",
            "241/241 [==============================] - 1s 5ms/step - loss: 0.0216 - accuracy: 0.9977 - val_loss: 0.4183 - val_accuracy: 0.8808\n",
            "Epoch 32/50\n",
            "241/241 [==============================] - 1s 5ms/step - loss: 0.0210 - accuracy: 0.9966 - val_loss: 0.4873 - val_accuracy: 0.8786\n",
            "Epoch 33/50\n",
            "241/241 [==============================] - 1s 5ms/step - loss: 0.0180 - accuracy: 0.9979 - val_loss: 0.4837 - val_accuracy: 0.8779\n",
            "Epoch 34/50\n",
            "241/241 [==============================] - 2s 7ms/step - loss: 0.0115 - accuracy: 0.9992 - val_loss: 0.4535 - val_accuracy: 0.8779\n",
            "Epoch 35/50\n",
            "241/241 [==============================] - 2s 7ms/step - loss: 0.0102 - accuracy: 0.9995 - val_loss: 0.4782 - val_accuracy: 0.8852\n",
            "Epoch 36/50\n",
            "241/241 [==============================] - 1s 5ms/step - loss: 0.0106 - accuracy: 0.9994 - val_loss: 0.5161 - val_accuracy: 0.8830\n",
            "Epoch 37/50\n",
            "241/241 [==============================] - 1s 5ms/step - loss: 0.0088 - accuracy: 0.9992 - val_loss: 0.5153 - val_accuracy: 0.8815\n",
            "Epoch 38/50\n",
            "241/241 [==============================] - 1s 5ms/step - loss: 0.0081 - accuracy: 0.9996 - val_loss: 0.5078 - val_accuracy: 0.8815\n",
            "Epoch 39/50\n",
            "241/241 [==============================] - 1s 4ms/step - loss: 0.0062 - accuracy: 0.9996 - val_loss: 0.5233 - val_accuracy: 0.8859\n",
            "Epoch 40/50\n",
            "241/241 [==============================] - 1s 5ms/step - loss: 0.0060 - accuracy: 0.9996 - val_loss: 0.5220 - val_accuracy: 0.8845\n",
            "Epoch 41/50\n",
            "241/241 [==============================] - 1s 4ms/step - loss: 0.0047 - accuracy: 0.9997 - val_loss: 0.5585 - val_accuracy: 0.8896\n",
            "Epoch 42/50\n",
            "241/241 [==============================] - 1s 5ms/step - loss: 0.0242 - accuracy: 0.9953 - val_loss: 0.5887 - val_accuracy: 0.8690\n",
            "Epoch 43/50\n",
            "241/241 [==============================] - 1s 5ms/step - loss: 0.0250 - accuracy: 0.9943 - val_loss: 0.5230 - val_accuracy: 0.8830\n",
            "Epoch 44/50\n",
            "241/241 [==============================] - 2s 7ms/step - loss: 0.0076 - accuracy: 0.9988 - val_loss: 0.5148 - val_accuracy: 0.8859\n",
            "Epoch 45/50\n",
            "241/241 [==============================] - 2s 8ms/step - loss: 0.0054 - accuracy: 0.9992 - val_loss: 0.5226 - val_accuracy: 0.8882\n",
            "Epoch 46/50\n",
            "241/241 [==============================] - 1s 5ms/step - loss: 0.0033 - accuracy: 0.9997 - val_loss: 0.5407 - val_accuracy: 0.8852\n",
            "Epoch 47/50\n",
            "241/241 [==============================] - 1s 6ms/step - loss: 0.0031 - accuracy: 0.9997 - val_loss: 0.5376 - val_accuracy: 0.8882\n",
            "Epoch 48/50\n",
            "241/241 [==============================] - 1s 5ms/step - loss: 0.0031 - accuracy: 0.9997 - val_loss: 0.5608 - val_accuracy: 0.8801\n",
            "Epoch 49/50\n",
            "241/241 [==============================] - 1s 4ms/step - loss: 0.0032 - accuracy: 0.9995 - val_loss: 0.5580 - val_accuracy: 0.8867\n",
            "Epoch 50/50\n",
            "241/241 [==============================] - 1s 5ms/step - loss: 0.0025 - accuracy: 0.9997 - val_loss: 0.5741 - val_accuracy: 0.8801\n"
          ]
        }
      ],
      "source": [
        "history3 = model3.fit(x_train, y_train, epochs=50, validation_split=0.15)"
      ]
    },
    {
      "cell_type": "code",
      "execution_count": 67,
      "metadata": {
        "colab": {
          "base_uri": "https://localhost:8080/"
        },
        "id": "sk2E03CHt8l0",
        "outputId": "843349e4-0b1d-4801-9e3b-88a89650a3e6"
      },
      "outputs": [
        {
          "data": {
            "text/plain": [
              "[0.5573200583457947, 0.889771580696106]"
            ]
          },
          "execution_count": 67,
          "metadata": {},
          "output_type": "execute_result"
        }
      ],
      "source": [
        "model3.evaluate(x_test, y_test, verbose=0)"
      ]
    },
    {
      "cell_type": "code",
      "execution_count": 69,
      "metadata": {
        "colab": {
          "base_uri": "https://localhost:8080/"
        },
        "id": "OVmnQmCO9c_y",
        "outputId": "b8063499-26f9-430f-b190-341f9636fd92"
      },
      "outputs": [
        {
          "name": "stdout",
          "output_type": "stream",
          "text": [
            "32/32 [==============================] - 0s 7ms/step\n",
            "Classification Report:\n",
            "              precision    recall  f1-score   support\n",
            "\n",
            "          AN       0.90      0.91      0.91       608\n",
            "           N       0.87      0.85      0.86       399\n",
            "\n",
            "    accuracy                           0.89      1007\n",
            "   macro avg       0.89      0.88      0.88      1007\n",
            "weighted avg       0.89      0.89      0.89      1007\n",
            "\n"
          ]
        }
      ],
      "source": [
        "from sklearn.metrics import confusion_matrix, classification_report\n",
        "y_pred = model3.predict(x_test)\n",
        "y_pred_label = chose_class(y_pred)\n",
        "y_test_label = chose_class(y_test)\n",
        "report = classification_report(y_test_label, y_pred_label, target_names=df2.label.unique())\n",
        "print(\"Classification Report:\")\n",
        "print(report)"
      ]
    },
    {
      "cell_type": "code",
      "execution_count": 70,
      "metadata": {
        "colab": {
          "base_uri": "https://localhost:8080/",
          "height": 564
        },
        "id": "bp7nIZpY9dEZ",
        "outputId": "02ffdcd9-2a29-4fc5-f113-fbe068523b9f"
      },
      "outputs": [
        {
          "data": {
            "image/png": "[encoded data removed]",
            "text/plain": [
              "<Figure size 800x600 with 2 Axes>"
            ]
          },
          "metadata": {},
          "output_type": "display_data"
        }
      ],
      "source": [
        "cm = confusion_matrix(y_test_label, y_pred_label)\n",
        "plt.figure(figsize=(8, 6))\n",
        "sns.heatmap(cm, annot=True, cmap=\"Blues\")\n",
        "plt.xlabel(\"Predicted Labels\")\n",
        "plt.ylabel(\"True Labels\")\n",
        "plt.title(\"Confusion Matrix\")\n",
        "plt.show()"
      ]
    }
  ],
  "metadata": {
    "colab": {
      "provenance": []
    },
    "kernelspec": {
      "display_name": "Python 3.9.13 64-bit (microsoft store)",
      "language": "python",
      "name": "python3"
    },
    "language_info": {
      "name": "python",
      "version": "3.9.13"
    },
    "vscode": {
      "interpreter": {
        "hash": "1a0a51feb3fe677077fd56f2294d600116797ec6b36f034b72c6e60af1880e8a"
      }
    }
  },
  "nbformat": 4,
  "nbformat_minor": 0
}
